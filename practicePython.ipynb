{
 "cells": [
  {
   "cell_type": "code",
   "execution_count": 15,
   "metadata": {
    "collapsed": true
   },
   "outputs": [
    {
     "data": {
      "text/plain": [
       "4.0"
      ]
     },
     "execution_count": 15,
     "metadata": {},
     "output_type": "execute_result"
    }
   ],
   "source": [
    "ret = 0\n",
    "n= 9\n",
    "ar = [1,2,1,2,1,3,2,3,1]\n",
    "u = list(set(ar))\n",
    "ret=0\n",
    "for o in u:\n",
    "    count = 0\n",
    "    for i in ar:\n",
    "        if i==o:\n",
    "            count+=1\n",
    "    ret = ret +round(count/2)\n",
    "    \n",
    "ret"
   ]
  },
  {
   "cell_type": "code",
   "execution_count": 22,
   "metadata": {},
   "outputs": [
    {
     "name": "stdout",
     "output_type": "stream",
     "text": [
      "0\n"
     ]
    }
   ],
   "source": [
    "n = 8\n",
    "s = 'UDDDUDUU'\n",
    "startStep = s[0]\n",
    "count = 0\n",
    "v = 0\n",
    "for i in range(n):\n",
    "    if s[i] == 'U':\n",
    "        count += 1\n",
    "    else:\n",
    "        count -= 1\n",
    "    if count == 0:\n",
    "        if startStep == 'D':\n",
    "            v += 1\n",
    "            if i <n-1:\n",
    "                startStep = s[i+1]\n",
    "            else:\n",
    "                break\n",
    "        else:\n",
    "            pass\n",
    "    else:\n",
    "        pass\n",
    "print v\n"
   ]
  },
  {
   "cell_type": "code",
   "execution_count": 29,
   "metadata": {},
   "outputs": [
    {
     "data": {
      "text/plain": [
       "5"
      ]
     },
     "execution_count": 29,
     "metadata": {},
     "output_type": "execute_result"
    }
   ],
   "source": [
    "n = 6\n",
    "c = [0, 0, 0, 0, 1, 0]\n",
    "\n",
    "j = c.count(1)\n",
    "max_jump =  n-j\n",
    "max_jump"
   ]
  },
  {
   "cell_type": "code",
   "execution_count": 34,
   "metadata": {},
   "outputs": [],
   "source": [
    "def jumpingOnClouds(c):\n",
    "    j=len(c)\n",
    "    countZero=0\n",
    "    for i in range(len(c)):\n",
    "        if c[i]==0:\n",
    "            countZero+=1\n",
    "            if countZero == 3:\n",
    "                j-=1\n",
    "        else:\n",
    "            j-=1\n",
    "            countZero = 0\n",
    "    print j"
   ]
  },
  {
   "cell_type": "code",
   "execution_count": 35,
   "metadata": {},
   "outputs": [
    {
     "data": {
      "text/plain": [
       "255"
      ]
     },
     "execution_count": 35,
     "metadata": {},
     "output_type": "execute_result"
    }
   ],
   "source": [
    "0XFF\n"
   ]
  },
  {
   "cell_type": "code",
   "execution_count": 38,
   "metadata": {},
   "outputs": [
    {
     "data": {
      "text/plain": [
       "True"
      ]
     },
     "execution_count": 38,
     "metadata": {},
     "output_type": "execute_result"
    }
   ],
   "source": [
    "x = {3, 7}\n",
    "y = {1, 3, 7, 14}\n",
    "a = x <= y\n",
    "a"
   ]
  },
  {
   "cell_type": "code",
   "execution_count": null,
   "metadata": {},
   "outputs": [],
   "source": []
  }
 ],
 "metadata": {
  "kernelspec": {
   "display_name": "Python 2",
   "language": "python",
   "name": "python2"
  },
  "language_info": {
   "codemirror_mode": {
    "name": "ipython",
    "version": 2
   },
   "file_extension": ".py",
   "mimetype": "text/x-python",
   "name": "python",
   "nbconvert_exporter": "python",
   "pygments_lexer": "ipython2",
   "version": "2.7.6"
  }
 },
 "nbformat": 4,
 "nbformat_minor": 0
}
